{
 "cells": [
  {
   "cell_type": "code",
   "execution_count": 22,
   "id": "1f5cd1c7",
   "metadata": {
    "ExecuteTime": {
     "end_time": "2022-10-28T12:02:24.754219Z",
     "start_time": "2022-10-28T12:02:24.743099Z"
    }
   },
   "outputs": [],
   "source": [
    "import pandas as pd\n",
    "import numpy as np\n",
    "import os\n",
    "import matplotlib.pyplot as plt\n",
    "import seaborn as sns\n",
    "import scipy"
   ]
  },
  {
   "cell_type": "code",
   "execution_count": 23,
   "id": "9fe37417",
   "metadata": {
    "ExecuteTime": {
     "end_time": "2022-10-28T12:02:25.985377Z",
     "start_time": "2022-10-28T12:02:25.978059Z"
    }
   },
   "outputs": [],
   "source": [
    "# create path\n",
    "path = r'/Users/macbook/Library/CloudStorage/OneDrive-Personal/Data Analisys/Instacart'"
   ]
  },
  {
   "cell_type": "code",
   "execution_count": 25,
   "id": "cbf8722b",
   "metadata": {
    "ExecuteTime": {
     "end_time": "2022-10-28T12:02:58.025574Z",
     "start_time": "2022-10-28T12:02:40.483801Z"
    }
   },
   "outputs": [],
   "source": [
    "# import products.pkl\n",
    "ords_prods_merge = pd.read_pickle(os.path.join(path, '02 Data', 'Prepared Data', 'orders_products_merged_update2.pkl'))"
   ]
  },
  {
   "cell_type": "code",
   "execution_count": 26,
   "id": "f7bc8f46",
   "metadata": {
    "ExecuteTime": {
     "end_time": "2022-10-28T12:03:38.363380Z",
     "start_time": "2022-10-28T12:02:58.029498Z"
    }
   },
   "outputs": [
    {
     "data": {
      "text/html": [
       "<div>\n",
       "<style scoped>\n",
       "    .dataframe tbody tr th:only-of-type {\n",
       "        vertical-align: middle;\n",
       "    }\n",
       "\n",
       "    .dataframe tbody tr th {\n",
       "        vertical-align: top;\n",
       "    }\n",
       "\n",
       "    .dataframe thead th {\n",
       "        text-align: right;\n",
       "    }\n",
       "</style>\n",
       "<table border=\"1\" class=\"dataframe\">\n",
       "  <thead>\n",
       "    <tr style=\"text-align: right;\">\n",
       "      <th></th>\n",
       "      <th>order_id</th>\n",
       "      <th>user_id</th>\n",
       "      <th>eval_set</th>\n",
       "      <th>order_number</th>\n",
       "      <th>orders_day_of_week</th>\n",
       "      <th>order_hour_of_day</th>\n",
       "      <th>days_since_prior_order</th>\n",
       "      <th>product_id</th>\n",
       "      <th>add_to_cart_order</th>\n",
       "      <th>reordered</th>\n",
       "      <th>...</th>\n",
       "      <th>price_range_loc</th>\n",
       "      <th>busiest_day</th>\n",
       "      <th>busiest_days</th>\n",
       "      <th>busiest_period_of_day</th>\n",
       "      <th>max_order</th>\n",
       "      <th>loyalty_flag</th>\n",
       "      <th>avg_price</th>\n",
       "      <th>spender_flag</th>\n",
       "      <th>median_days_since_prior_order</th>\n",
       "      <th>frequency_flag</th>\n",
       "    </tr>\n",
       "  </thead>\n",
       "  <tbody>\n",
       "    <tr>\n",
       "      <th>0</th>\n",
       "      <td>2539329</td>\n",
       "      <td>1</td>\n",
       "      <td>prior</td>\n",
       "      <td>1</td>\n",
       "      <td>2</td>\n",
       "      <td>8</td>\n",
       "      <td>NaN</td>\n",
       "      <td>196</td>\n",
       "      <td>1</td>\n",
       "      <td>0</td>\n",
       "      <td>...</td>\n",
       "      <td>Mid-range product</td>\n",
       "      <td>Regularly busy</td>\n",
       "      <td>Regulary busy days</td>\n",
       "      <td>Most orders</td>\n",
       "      <td>10</td>\n",
       "      <td>New customer</td>\n",
       "      <td>6.367797</td>\n",
       "      <td>Low spender</td>\n",
       "      <td>20.5</td>\n",
       "      <td>Non-frequent customer</td>\n",
       "    </tr>\n",
       "    <tr>\n",
       "      <th>1</th>\n",
       "      <td>2398795</td>\n",
       "      <td>1</td>\n",
       "      <td>prior</td>\n",
       "      <td>2</td>\n",
       "      <td>3</td>\n",
       "      <td>7</td>\n",
       "      <td>15.0</td>\n",
       "      <td>196</td>\n",
       "      <td>1</td>\n",
       "      <td>1</td>\n",
       "      <td>...</td>\n",
       "      <td>Mid-range product</td>\n",
       "      <td>Regularly busy</td>\n",
       "      <td>Slowest days</td>\n",
       "      <td>Average orders</td>\n",
       "      <td>10</td>\n",
       "      <td>New customer</td>\n",
       "      <td>6.367797</td>\n",
       "      <td>Low spender</td>\n",
       "      <td>20.5</td>\n",
       "      <td>Non-frequent customer</td>\n",
       "    </tr>\n",
       "    <tr>\n",
       "      <th>2</th>\n",
       "      <td>473747</td>\n",
       "      <td>1</td>\n",
       "      <td>prior</td>\n",
       "      <td>3</td>\n",
       "      <td>3</td>\n",
       "      <td>12</td>\n",
       "      <td>21.0</td>\n",
       "      <td>196</td>\n",
       "      <td>1</td>\n",
       "      <td>1</td>\n",
       "      <td>...</td>\n",
       "      <td>Mid-range product</td>\n",
       "      <td>Regularly busy</td>\n",
       "      <td>Slowest days</td>\n",
       "      <td>Most orders</td>\n",
       "      <td>10</td>\n",
       "      <td>New customer</td>\n",
       "      <td>6.367797</td>\n",
       "      <td>Low spender</td>\n",
       "      <td>20.5</td>\n",
       "      <td>Non-frequent customer</td>\n",
       "    </tr>\n",
       "    <tr>\n",
       "      <th>3</th>\n",
       "      <td>2254736</td>\n",
       "      <td>1</td>\n",
       "      <td>prior</td>\n",
       "      <td>4</td>\n",
       "      <td>4</td>\n",
       "      <td>7</td>\n",
       "      <td>29.0</td>\n",
       "      <td>196</td>\n",
       "      <td>1</td>\n",
       "      <td>1</td>\n",
       "      <td>...</td>\n",
       "      <td>Mid-range product</td>\n",
       "      <td>Least busy</td>\n",
       "      <td>Slowest days</td>\n",
       "      <td>Average orders</td>\n",
       "      <td>10</td>\n",
       "      <td>New customer</td>\n",
       "      <td>6.367797</td>\n",
       "      <td>Low spender</td>\n",
       "      <td>20.5</td>\n",
       "      <td>Non-frequent customer</td>\n",
       "    </tr>\n",
       "    <tr>\n",
       "      <th>4</th>\n",
       "      <td>431534</td>\n",
       "      <td>1</td>\n",
       "      <td>prior</td>\n",
       "      <td>5</td>\n",
       "      <td>4</td>\n",
       "      <td>15</td>\n",
       "      <td>28.0</td>\n",
       "      <td>196</td>\n",
       "      <td>1</td>\n",
       "      <td>1</td>\n",
       "      <td>...</td>\n",
       "      <td>Mid-range product</td>\n",
       "      <td>Least busy</td>\n",
       "      <td>Slowest days</td>\n",
       "      <td>Most orders</td>\n",
       "      <td>10</td>\n",
       "      <td>New customer</td>\n",
       "      <td>6.367797</td>\n",
       "      <td>Low spender</td>\n",
       "      <td>20.5</td>\n",
       "      <td>Non-frequent customer</td>\n",
       "    </tr>\n",
       "    <tr>\n",
       "      <th>...</th>\n",
       "      <td>...</td>\n",
       "      <td>...</td>\n",
       "      <td>...</td>\n",
       "      <td>...</td>\n",
       "      <td>...</td>\n",
       "      <td>...</td>\n",
       "      <td>...</td>\n",
       "      <td>...</td>\n",
       "      <td>...</td>\n",
       "      <td>...</td>\n",
       "      <td>...</td>\n",
       "      <td>...</td>\n",
       "      <td>...</td>\n",
       "      <td>...</td>\n",
       "      <td>...</td>\n",
       "      <td>...</td>\n",
       "      <td>...</td>\n",
       "      <td>...</td>\n",
       "      <td>...</td>\n",
       "      <td>...</td>\n",
       "      <td>...</td>\n",
       "    </tr>\n",
       "    <tr>\n",
       "      <th>32404854</th>\n",
       "      <td>1320836</td>\n",
       "      <td>202557</td>\n",
       "      <td>prior</td>\n",
       "      <td>17</td>\n",
       "      <td>2</td>\n",
       "      <td>15</td>\n",
       "      <td>1.0</td>\n",
       "      <td>43553</td>\n",
       "      <td>2</td>\n",
       "      <td>1</td>\n",
       "      <td>...</td>\n",
       "      <td>Low-range product</td>\n",
       "      <td>Regularly busy</td>\n",
       "      <td>Regulary busy days</td>\n",
       "      <td>Most orders</td>\n",
       "      <td>31</td>\n",
       "      <td>Regular customer</td>\n",
       "      <td>6.905655</td>\n",
       "      <td>Low spender</td>\n",
       "      <td>8.0</td>\n",
       "      <td>Frequent customer</td>\n",
       "    </tr>\n",
       "    <tr>\n",
       "      <th>32404855</th>\n",
       "      <td>31526</td>\n",
       "      <td>202557</td>\n",
       "      <td>prior</td>\n",
       "      <td>18</td>\n",
       "      <td>5</td>\n",
       "      <td>11</td>\n",
       "      <td>3.0</td>\n",
       "      <td>43553</td>\n",
       "      <td>2</td>\n",
       "      <td>1</td>\n",
       "      <td>...</td>\n",
       "      <td>Low-range product</td>\n",
       "      <td>Regularly busy</td>\n",
       "      <td>Regulary busy days</td>\n",
       "      <td>Most orders</td>\n",
       "      <td>31</td>\n",
       "      <td>Regular customer</td>\n",
       "      <td>6.905655</td>\n",
       "      <td>Low spender</td>\n",
       "      <td>8.0</td>\n",
       "      <td>Frequent customer</td>\n",
       "    </tr>\n",
       "    <tr>\n",
       "      <th>32404856</th>\n",
       "      <td>758936</td>\n",
       "      <td>203436</td>\n",
       "      <td>prior</td>\n",
       "      <td>1</td>\n",
       "      <td>2</td>\n",
       "      <td>7</td>\n",
       "      <td>NaN</td>\n",
       "      <td>42338</td>\n",
       "      <td>4</td>\n",
       "      <td>0</td>\n",
       "      <td>...</td>\n",
       "      <td>Mid-range product</td>\n",
       "      <td>Regularly busy</td>\n",
       "      <td>Regulary busy days</td>\n",
       "      <td>Average orders</td>\n",
       "      <td>3</td>\n",
       "      <td>New customer</td>\n",
       "      <td>7.631579</td>\n",
       "      <td>Low spender</td>\n",
       "      <td>15.0</td>\n",
       "      <td>Regular customer</td>\n",
       "    </tr>\n",
       "    <tr>\n",
       "      <th>32404857</th>\n",
       "      <td>2745165</td>\n",
       "      <td>203436</td>\n",
       "      <td>prior</td>\n",
       "      <td>2</td>\n",
       "      <td>3</td>\n",
       "      <td>5</td>\n",
       "      <td>15.0</td>\n",
       "      <td>42338</td>\n",
       "      <td>16</td>\n",
       "      <td>1</td>\n",
       "      <td>...</td>\n",
       "      <td>Mid-range product</td>\n",
       "      <td>Regularly busy</td>\n",
       "      <td>Slowest days</td>\n",
       "      <td>Fewest orders</td>\n",
       "      <td>3</td>\n",
       "      <td>New customer</td>\n",
       "      <td>7.631579</td>\n",
       "      <td>Low spender</td>\n",
       "      <td>15.0</td>\n",
       "      <td>Regular customer</td>\n",
       "    </tr>\n",
       "    <tr>\n",
       "      <th>32404858</th>\n",
       "      <td>3093936</td>\n",
       "      <td>205420</td>\n",
       "      <td>prior</td>\n",
       "      <td>1</td>\n",
       "      <td>4</td>\n",
       "      <td>14</td>\n",
       "      <td>NaN</td>\n",
       "      <td>28818</td>\n",
       "      <td>8</td>\n",
       "      <td>0</td>\n",
       "      <td>...</td>\n",
       "      <td>Mid-range product</td>\n",
       "      <td>Least busy</td>\n",
       "      <td>Slowest days</td>\n",
       "      <td>Most orders</td>\n",
       "      <td>16</td>\n",
       "      <td>Regular customer</td>\n",
       "      <td>7.684746</td>\n",
       "      <td>Low spender</td>\n",
       "      <td>13.0</td>\n",
       "      <td>Regular customer</td>\n",
       "    </tr>\n",
       "  </tbody>\n",
       "</table>\n",
       "<p>32404859 rows × 25 columns</p>\n",
       "</div>"
      ],
      "text/plain": [
       "          order_id  user_id eval_set  order_number  orders_day_of_week  \\\n",
       "0          2539329        1    prior             1                   2   \n",
       "1          2398795        1    prior             2                   3   \n",
       "2           473747        1    prior             3                   3   \n",
       "3          2254736        1    prior             4                   4   \n",
       "4           431534        1    prior             5                   4   \n",
       "...            ...      ...      ...           ...                 ...   \n",
       "32404854   1320836   202557    prior            17                   2   \n",
       "32404855     31526   202557    prior            18                   5   \n",
       "32404856    758936   203436    prior             1                   2   \n",
       "32404857   2745165   203436    prior             2                   3   \n",
       "32404858   3093936   205420    prior             1                   4   \n",
       "\n",
       "          order_hour_of_day  days_since_prior_order  product_id  \\\n",
       "0                         8                     NaN         196   \n",
       "1                         7                    15.0         196   \n",
       "2                        12                    21.0         196   \n",
       "3                         7                    29.0         196   \n",
       "4                        15                    28.0         196   \n",
       "...                     ...                     ...         ...   \n",
       "32404854                 15                     1.0       43553   \n",
       "32404855                 11                     3.0       43553   \n",
       "32404856                  7                     NaN       42338   \n",
       "32404857                  5                    15.0       42338   \n",
       "32404858                 14                     NaN       28818   \n",
       "\n",
       "          add_to_cart_order  reordered  ...    price_range_loc  \\\n",
       "0                         1          0  ...  Mid-range product   \n",
       "1                         1          1  ...  Mid-range product   \n",
       "2                         1          1  ...  Mid-range product   \n",
       "3                         1          1  ...  Mid-range product   \n",
       "4                         1          1  ...  Mid-range product   \n",
       "...                     ...        ...  ...                ...   \n",
       "32404854                  2          1  ...  Low-range product   \n",
       "32404855                  2          1  ...  Low-range product   \n",
       "32404856                  4          0  ...  Mid-range product   \n",
       "32404857                 16          1  ...  Mid-range product   \n",
       "32404858                  8          0  ...  Mid-range product   \n",
       "\n",
       "             busiest_day        busiest_days  busiest_period_of_day max_order  \\\n",
       "0         Regularly busy  Regulary busy days            Most orders        10   \n",
       "1         Regularly busy        Slowest days         Average orders        10   \n",
       "2         Regularly busy        Slowest days            Most orders        10   \n",
       "3             Least busy        Slowest days         Average orders        10   \n",
       "4             Least busy        Slowest days            Most orders        10   \n",
       "...                  ...                 ...                    ...       ...   \n",
       "32404854  Regularly busy  Regulary busy days            Most orders        31   \n",
       "32404855  Regularly busy  Regulary busy days            Most orders        31   \n",
       "32404856  Regularly busy  Regulary busy days         Average orders         3   \n",
       "32404857  Regularly busy        Slowest days          Fewest orders         3   \n",
       "32404858      Least busy        Slowest days            Most orders        16   \n",
       "\n",
       "              loyalty_flag avg_price spender_flag  \\\n",
       "0             New customer  6.367797  Low spender   \n",
       "1             New customer  6.367797  Low spender   \n",
       "2             New customer  6.367797  Low spender   \n",
       "3             New customer  6.367797  Low spender   \n",
       "4             New customer  6.367797  Low spender   \n",
       "...                    ...       ...          ...   \n",
       "32404854  Regular customer  6.905655  Low spender   \n",
       "32404855  Regular customer  6.905655  Low spender   \n",
       "32404856      New customer  7.631579  Low spender   \n",
       "32404857      New customer  7.631579  Low spender   \n",
       "32404858  Regular customer  7.684746  Low spender   \n",
       "\n",
       "         median_days_since_prior_order         frequency_flag  \n",
       "0                                 20.5  Non-frequent customer  \n",
       "1                                 20.5  Non-frequent customer  \n",
       "2                                 20.5  Non-frequent customer  \n",
       "3                                 20.5  Non-frequent customer  \n",
       "4                                 20.5  Non-frequent customer  \n",
       "...                                ...                    ...  \n",
       "32404854                           8.0      Frequent customer  \n",
       "32404855                           8.0      Frequent customer  \n",
       "32404856                          15.0       Regular customer  \n",
       "32404857                          15.0       Regular customer  \n",
       "32404858                          13.0       Regular customer  \n",
       "\n",
       "[32404859 rows x 25 columns]"
      ]
     },
     "execution_count": 26,
     "metadata": {},
     "output_type": "execute_result"
    }
   ],
   "source": [
    "ords_prods_merge"
   ]
  },
  {
   "cell_type": "code",
   "execution_count": 4,
   "id": "14d30bdb",
   "metadata": {
    "ExecuteTime": {
     "end_time": "2022-10-28T11:56:09.270459Z",
     "start_time": "2022-10-28T11:56:08.624614Z"
    }
   },
   "outputs": [
    {
     "data": {
      "text/plain": [
       "<AxesSubplot:>"
      ]
     },
     "execution_count": 4,
     "metadata": {},
     "output_type": "execute_result"
    },
    {
     "data": {
      "image/png": "[encoded data removed]",
      "text/plain": [
       "<Figure size 432x288 with 1 Axes>"
      ]
     },
     "metadata": {
      "needs_background": "light"
     },
     "output_type": "display_data"
    }
   ],
   "source": [
    "ords_prods_merge['orders_day_of_week'].value_counts().plot.bar()"
   ]
  },
  {
   "cell_type": "code",
   "execution_count": 5,
   "id": "e6023566",
   "metadata": {
    "ExecuteTime": {
     "end_time": "2022-10-28T11:56:14.530644Z",
     "start_time": "2022-10-28T11:56:14.271784Z"
    },
    "scrolled": true
   },
   "outputs": [
    {
     "data": {
      "text/plain": [
       "<AxesSubplot:>"
      ]
     },
     "execution_count": 5,
     "metadata": {},
     "output_type": "execute_result"
    },
    {
     "data": {
      "image/png": "[encoded data removed]",
      "text/plain": [
       "<Figure size 432x288 with 1 Axes>"
      ]
     },
     "metadata": {
      "needs_background": "light"
     },
     "output_type": "display_data"
    }
   ],
   "source": [
    "# sort_index()\n",
    "ords_prods_merge['orders_day_of_week'].value_counts().sort_index().plot.bar()"
   ]
  },
  {
   "cell_type": "code",
   "execution_count": 6,
   "id": "94217482",
   "metadata": {
    "ExecuteTime": {
     "end_time": "2022-10-28T11:56:17.084950Z",
     "start_time": "2022-10-28T11:56:16.929501Z"
    }
   },
   "outputs": [
    {
     "data": {
      "text/plain": [
       "0    6204182\n",
       "1    5660230\n",
       "2    4213830\n",
       "3    3840534\n",
       "4    3783802\n",
       "5    4205791\n",
       "6    4496490\n",
       "Name: orders_day_of_week, dtype: int64"
      ]
     },
     "execution_count": 6,
     "metadata": {},
     "output_type": "execute_result"
    }
   ],
   "source": [
    "# printing frequencies\n",
    "ords_prods_merge['orders_day_of_week'].value_counts().sort_index()"
   ]
  },
  {
   "cell_type": "code",
   "execution_count": 7,
   "id": "d462db71",
   "metadata": {
    "ExecuteTime": {
     "end_time": "2022-10-28T11:56:20.156407Z",
     "start_time": "2022-10-28T11:56:19.917791Z"
    }
   },
   "outputs": [
    {
     "data": {
      "image/png": "[encoded data removed]",
      "text/plain": [
       "<Figure size 432x288 with 1 Axes>"
      ]
     },
     "metadata": {
      "needs_background": "light"
     },
     "output_type": "display_data"
    }
   ],
   "source": [
    "# color\n",
    "bar = ords_prods_merge['orders_day_of_week'].value_counts().plot.bar(color =['purple', 'red', 'pink', 'yellow', 'green'])"
   ]
  },
  {
   "cell_type": "code",
   "execution_count": 10,
   "id": "192bce1a",
   "metadata": {
    "ExecuteTime": {
     "end_time": "2022-10-28T11:57:01.706623Z",
     "start_time": "2022-10-28T11:57:01.677454Z"
    }
   },
   "outputs": [],
   "source": [
    "# export figure.savefig() function\n",
    "bar.figure.savefig(os.path.join(path, '04 Analysis', 'Visualizations', 'bar_orders_dow_lesson.png'))"
   ]
  },
  {
   "cell_type": "code",
   "execution_count": 11,
   "id": "8c9f035a",
   "metadata": {
    "ExecuteTime": {
     "end_time": "2022-10-28T11:57:05.857917Z",
     "start_time": "2022-10-28T11:57:03.152821Z"
    }
   },
   "outputs": [
    {
     "data": {
      "text/plain": [
       "<AxesSubplot:ylabel='Frequency'>"
      ]
     },
     "execution_count": 11,
     "metadata": {},
     "output_type": "execute_result"
    },
    {
     "data": {
      "image/png": "[encoded data removed]",
      "text/plain": [
       "<Figure size 432x288 with 1 Axes>"
      ]
     },
     "metadata": {
      "needs_background": "light"
     },
     "output_type": "display_data"
    }
   ],
   "source": [
    "# creating a histogram\n",
    "ords_prods_merge['prices'].plot.hist(bins = 25)"
   ]
  },
  {
   "cell_type": "code",
   "execution_count": 12,
   "id": "fe2e6447",
   "metadata": {
    "ExecuteTime": {
     "end_time": "2022-10-28T11:57:09.910646Z",
     "start_time": "2022-10-28T11:57:09.142631Z"
    }
   },
   "outputs": [
    {
     "data": {
      "text/plain": [
       "count    3.240486e+07\n",
       "mean     1.198023e+01\n",
       "std      4.956554e+02\n",
       "min      1.000000e+00\n",
       "25%      4.200000e+00\n",
       "50%      7.400000e+00\n",
       "75%      1.130000e+01\n",
       "max      9.999900e+04\n",
       "Name: prices, dtype: float64"
      ]
     },
     "execution_count": 12,
     "metadata": {},
     "output_type": "execute_result"
    }
   ],
   "source": [
    "ords_prods_merge['prices'].describe()"
   ]
  },
  {
   "cell_type": "code",
   "execution_count": 13,
   "id": "c95fe691",
   "metadata": {
    "ExecuteTime": {
     "end_time": "2022-10-28T11:57:11.719613Z",
     "start_time": "2022-10-28T11:57:11.659224Z"
    }
   },
   "outputs": [
    {
     "data": {
      "text/plain": [
       "11.980225638467232"
      ]
     },
     "execution_count": 13,
     "metadata": {},
     "output_type": "execute_result"
    }
   ],
   "source": [
    "ords_prods_merge['prices'].mean()"
   ]
  },
  {
   "cell_type": "code",
   "execution_count": 14,
   "id": "b1f6a15f",
   "metadata": {
    "ExecuteTime": {
     "end_time": "2022-10-28T11:57:16.335216Z",
     "start_time": "2022-10-28T11:57:16.110363Z"
    }
   },
   "outputs": [
    {
     "data": {
      "text/plain": [
       "7.4"
      ]
     },
     "execution_count": 14,
     "metadata": {},
     "output_type": "execute_result"
    }
   ],
   "source": [
    "ords_prods_merge['prices'].median()"
   ]
  },
  {
   "cell_type": "code",
   "execution_count": 15,
   "id": "39337ae5",
   "metadata": {
    "ExecuteTime": {
     "end_time": "2022-10-28T11:57:17.746525Z",
     "start_time": "2022-10-28T11:57:17.647472Z"
    }
   },
   "outputs": [
    {
     "data": {
      "text/plain": [
       "99999.0"
      ]
     },
     "execution_count": 15,
     "metadata": {},
     "output_type": "execute_result"
    }
   ],
   "source": [
    "ords_prods_merge['prices'].max()"
   ]
  },
  {
   "cell_type": "code",
   "execution_count": 18,
   "id": "a1a12195",
   "metadata": {
    "ExecuteTime": {
     "end_time": "2022-10-28T11:58:46.568145Z",
     "start_time": "2022-10-28T11:58:15.655196Z"
    }
   },
   "outputs": [
    {
     "data": {
      "text/plain": [
       "<AxesSubplot:xlabel='prices', ylabel='prices'>"
      ]
     },
     "execution_count": 18,
     "metadata": {},
     "output_type": "execute_result"
    },
    {
     "data": {
      "image/png": "[encoded data removed]",
      "text/plain": [
       "<Figure size 432x288 with 1 Axes>"
      ]
     },
     "metadata": {
      "needs_background": "light"
     },
     "output_type": "display_data"
    }
   ],
   "source": [
    "# scatterplot \n",
    "sns.scatterplot(x = 'prices', y = 'prices',data = ords_prods_merge)"
   ]
  },
  {
   "cell_type": "code",
   "execution_count": 19,
   "id": "595680a6",
   "metadata": {
    "ExecuteTime": {
     "end_time": "2022-10-28T11:59:42.024125Z",
     "start_time": "2022-10-28T11:59:41.970744Z"
    }
   },
   "outputs": [
    {
     "data": {
      "text/html": [
       "<div>\n",
       "<style scoped>\n",
       "    .dataframe tbody tr th:only-of-type {\n",
       "        vertical-align: middle;\n",
       "    }\n",
       "\n",
       "    .dataframe tbody tr th {\n",
       "        vertical-align: top;\n",
       "    }\n",
       "\n",
       "    .dataframe thead th {\n",
       "        text-align: right;\n",
       "    }\n",
       "</style>\n",
       "<table border=\"1\" class=\"dataframe\">\n",
       "  <thead>\n",
       "    <tr style=\"text-align: right;\">\n",
       "      <th></th>\n",
       "      <th>order_id</th>\n",
       "      <th>user_id</th>\n",
       "      <th>eval_set</th>\n",
       "      <th>order_number</th>\n",
       "      <th>orders_day_of_week</th>\n",
       "      <th>order_hour_of_day</th>\n",
       "      <th>days_since_prior_order</th>\n",
       "      <th>product_id</th>\n",
       "      <th>add_to_cart_order</th>\n",
       "      <th>reordered</th>\n",
       "      <th>...</th>\n",
       "      <th>price_range_loc</th>\n",
       "      <th>busiest_day</th>\n",
       "      <th>busiest_days</th>\n",
       "      <th>busiest_period_of_day</th>\n",
       "      <th>max_order</th>\n",
       "      <th>loyalty_flag</th>\n",
       "      <th>avg_price</th>\n",
       "      <th>spender_flag</th>\n",
       "      <th>median_days_since_prior_order</th>\n",
       "      <th>frequency_flag</th>\n",
       "    </tr>\n",
       "  </thead>\n",
       "  <tbody>\n",
       "    <tr>\n",
       "      <th>10030345</th>\n",
       "      <td>912404</td>\n",
       "      <td>17</td>\n",
       "      <td>prior</td>\n",
       "      <td>12</td>\n",
       "      <td>2</td>\n",
       "      <td>14</td>\n",
       "      <td>5.0</td>\n",
       "      <td>21553</td>\n",
       "      <td>5</td>\n",
       "      <td>0</td>\n",
       "      <td>...</td>\n",
       "      <td>High-range product</td>\n",
       "      <td>Regularly busy</td>\n",
       "      <td>Regulary busy days</td>\n",
       "      <td>Most orders</td>\n",
       "      <td>40</td>\n",
       "      <td>Regular customer</td>\n",
       "      <td>108.648299</td>\n",
       "      <td>High spender</td>\n",
       "      <td>5.0</td>\n",
       "      <td>Frequent customer</td>\n",
       "    </tr>\n",
       "    <tr>\n",
       "      <th>10030346</th>\n",
       "      <td>603376</td>\n",
       "      <td>17</td>\n",
       "      <td>prior</td>\n",
       "      <td>22</td>\n",
       "      <td>6</td>\n",
       "      <td>16</td>\n",
       "      <td>4.0</td>\n",
       "      <td>21553</td>\n",
       "      <td>3</td>\n",
       "      <td>1</td>\n",
       "      <td>...</td>\n",
       "      <td>High-range product</td>\n",
       "      <td>Regularly busy</td>\n",
       "      <td>Regulary busy days</td>\n",
       "      <td>Most orders</td>\n",
       "      <td>40</td>\n",
       "      <td>Regular customer</td>\n",
       "      <td>108.648299</td>\n",
       "      <td>High spender</td>\n",
       "      <td>5.0</td>\n",
       "      <td>Frequent customer</td>\n",
       "    </tr>\n",
       "    <tr>\n",
       "      <th>10030347</th>\n",
       "      <td>3264360</td>\n",
       "      <td>135</td>\n",
       "      <td>prior</td>\n",
       "      <td>2</td>\n",
       "      <td>2</td>\n",
       "      <td>21</td>\n",
       "      <td>13.0</td>\n",
       "      <td>21553</td>\n",
       "      <td>6</td>\n",
       "      <td>0</td>\n",
       "      <td>...</td>\n",
       "      <td>High-range product</td>\n",
       "      <td>Regularly busy</td>\n",
       "      <td>Regulary busy days</td>\n",
       "      <td>Average orders</td>\n",
       "      <td>4</td>\n",
       "      <td>New customer</td>\n",
       "      <td>1154.792308</td>\n",
       "      <td>High spender</td>\n",
       "      <td>12.0</td>\n",
       "      <td>Regular customer</td>\n",
       "    </tr>\n",
       "    <tr>\n",
       "      <th>10030348</th>\n",
       "      <td>892534</td>\n",
       "      <td>135</td>\n",
       "      <td>prior</td>\n",
       "      <td>3</td>\n",
       "      <td>0</td>\n",
       "      <td>8</td>\n",
       "      <td>12.0</td>\n",
       "      <td>21553</td>\n",
       "      <td>3</td>\n",
       "      <td>1</td>\n",
       "      <td>...</td>\n",
       "      <td>High-range product</td>\n",
       "      <td>Busiest day</td>\n",
       "      <td>Busiest days</td>\n",
       "      <td>Most orders</td>\n",
       "      <td>4</td>\n",
       "      <td>New customer</td>\n",
       "      <td>1154.792308</td>\n",
       "      <td>High spender</td>\n",
       "      <td>12.0</td>\n",
       "      <td>Regular customer</td>\n",
       "    </tr>\n",
       "    <tr>\n",
       "      <th>10030349</th>\n",
       "      <td>229704</td>\n",
       "      <td>342</td>\n",
       "      <td>prior</td>\n",
       "      <td>8</td>\n",
       "      <td>1</td>\n",
       "      <td>19</td>\n",
       "      <td>30.0</td>\n",
       "      <td>21553</td>\n",
       "      <td>9</td>\n",
       "      <td>0</td>\n",
       "      <td>...</td>\n",
       "      <td>High-range product</td>\n",
       "      <td>Regularly busy</td>\n",
       "      <td>Busiest days</td>\n",
       "      <td>Most orders</td>\n",
       "      <td>16</td>\n",
       "      <td>Regular customer</td>\n",
       "      <td>114.426619</td>\n",
       "      <td>High spender</td>\n",
       "      <td>23.0</td>\n",
       "      <td>Non-frequent customer</td>\n",
       "    </tr>\n",
       "    <tr>\n",
       "      <th>...</th>\n",
       "      <td>...</td>\n",
       "      <td>...</td>\n",
       "      <td>...</td>\n",
       "      <td>...</td>\n",
       "      <td>...</td>\n",
       "      <td>...</td>\n",
       "      <td>...</td>\n",
       "      <td>...</td>\n",
       "      <td>...</td>\n",
       "      <td>...</td>\n",
       "      <td>...</td>\n",
       "      <td>...</td>\n",
       "      <td>...</td>\n",
       "      <td>...</td>\n",
       "      <td>...</td>\n",
       "      <td>...</td>\n",
       "      <td>...</td>\n",
       "      <td>...</td>\n",
       "      <td>...</td>\n",
       "      <td>...</td>\n",
       "      <td>...</td>\n",
       "    </tr>\n",
       "    <tr>\n",
       "      <th>29166209</th>\n",
       "      <td>2249946</td>\n",
       "      <td>204099</td>\n",
       "      <td>prior</td>\n",
       "      <td>29</td>\n",
       "      <td>0</td>\n",
       "      <td>8</td>\n",
       "      <td>4.0</td>\n",
       "      <td>33664</td>\n",
       "      <td>1</td>\n",
       "      <td>0</td>\n",
       "      <td>...</td>\n",
       "      <td>High-range product</td>\n",
       "      <td>Busiest day</td>\n",
       "      <td>Busiest days</td>\n",
       "      <td>Most orders</td>\n",
       "      <td>39</td>\n",
       "      <td>Regular customer</td>\n",
       "      <td>1106.743956</td>\n",
       "      <td>High spender</td>\n",
       "      <td>4.0</td>\n",
       "      <td>Frequent customer</td>\n",
       "    </tr>\n",
       "    <tr>\n",
       "      <th>29166210</th>\n",
       "      <td>2363282</td>\n",
       "      <td>204099</td>\n",
       "      <td>prior</td>\n",
       "      <td>31</td>\n",
       "      <td>0</td>\n",
       "      <td>9</td>\n",
       "      <td>2.0</td>\n",
       "      <td>33664</td>\n",
       "      <td>1</td>\n",
       "      <td>1</td>\n",
       "      <td>...</td>\n",
       "      <td>High-range product</td>\n",
       "      <td>Busiest day</td>\n",
       "      <td>Busiest days</td>\n",
       "      <td>Most orders</td>\n",
       "      <td>39</td>\n",
       "      <td>Regular customer</td>\n",
       "      <td>1106.743956</td>\n",
       "      <td>High spender</td>\n",
       "      <td>4.0</td>\n",
       "      <td>Frequent customer</td>\n",
       "    </tr>\n",
       "    <tr>\n",
       "      <th>29166211</th>\n",
       "      <td>3181945</td>\n",
       "      <td>204395</td>\n",
       "      <td>prior</td>\n",
       "      <td>13</td>\n",
       "      <td>3</td>\n",
       "      <td>15</td>\n",
       "      <td>8.0</td>\n",
       "      <td>33664</td>\n",
       "      <td>25</td>\n",
       "      <td>0</td>\n",
       "      <td>...</td>\n",
       "      <td>High-range product</td>\n",
       "      <td>Regularly busy</td>\n",
       "      <td>Slowest days</td>\n",
       "      <td>Most orders</td>\n",
       "      <td>15</td>\n",
       "      <td>Regular customer</td>\n",
       "      <td>451.153540</td>\n",
       "      <td>High spender</td>\n",
       "      <td>5.0</td>\n",
       "      <td>Frequent customer</td>\n",
       "    </tr>\n",
       "    <tr>\n",
       "      <th>29166212</th>\n",
       "      <td>2486215</td>\n",
       "      <td>205227</td>\n",
       "      <td>prior</td>\n",
       "      <td>7</td>\n",
       "      <td>3</td>\n",
       "      <td>20</td>\n",
       "      <td>4.0</td>\n",
       "      <td>33664</td>\n",
       "      <td>8</td>\n",
       "      <td>0</td>\n",
       "      <td>...</td>\n",
       "      <td>High-range product</td>\n",
       "      <td>Regularly busy</td>\n",
       "      <td>Slowest days</td>\n",
       "      <td>Average orders</td>\n",
       "      <td>12</td>\n",
       "      <td>Regular customer</td>\n",
       "      <td>1178.381871</td>\n",
       "      <td>High spender</td>\n",
       "      <td>12.0</td>\n",
       "      <td>Regular customer</td>\n",
       "    </tr>\n",
       "    <tr>\n",
       "      <th>29166213</th>\n",
       "      <td>2232716</td>\n",
       "      <td>205227</td>\n",
       "      <td>prior</td>\n",
       "      <td>10</td>\n",
       "      <td>0</td>\n",
       "      <td>11</td>\n",
       "      <td>4.0</td>\n",
       "      <td>33664</td>\n",
       "      <td>23</td>\n",
       "      <td>1</td>\n",
       "      <td>...</td>\n",
       "      <td>High-range product</td>\n",
       "      <td>Busiest day</td>\n",
       "      <td>Busiest days</td>\n",
       "      <td>Most orders</td>\n",
       "      <td>12</td>\n",
       "      <td>Regular customer</td>\n",
       "      <td>1178.381871</td>\n",
       "      <td>High spender</td>\n",
       "      <td>12.0</td>\n",
       "      <td>Regular customer</td>\n",
       "    </tr>\n",
       "  </tbody>\n",
       "</table>\n",
       "<p>5127 rows × 25 columns</p>\n",
       "</div>"
      ],
      "text/plain": [
       "          order_id  user_id eval_set  order_number  orders_day_of_week  \\\n",
       "10030345    912404       17    prior            12                   2   \n",
       "10030346    603376       17    prior            22                   6   \n",
       "10030347   3264360      135    prior             2                   2   \n",
       "10030348    892534      135    prior             3                   0   \n",
       "10030349    229704      342    prior             8                   1   \n",
       "...            ...      ...      ...           ...                 ...   \n",
       "29166209   2249946   204099    prior            29                   0   \n",
       "29166210   2363282   204099    prior            31                   0   \n",
       "29166211   3181945   204395    prior            13                   3   \n",
       "29166212   2486215   205227    prior             7                   3   \n",
       "29166213   2232716   205227    prior            10                   0   \n",
       "\n",
       "          order_hour_of_day  days_since_prior_order  product_id  \\\n",
       "10030345                 14                     5.0       21553   \n",
       "10030346                 16                     4.0       21553   \n",
       "10030347                 21                    13.0       21553   \n",
       "10030348                  8                    12.0       21553   \n",
       "10030349                 19                    30.0       21553   \n",
       "...                     ...                     ...         ...   \n",
       "29166209                  8                     4.0       33664   \n",
       "29166210                  9                     2.0       33664   \n",
       "29166211                 15                     8.0       33664   \n",
       "29166212                 20                     4.0       33664   \n",
       "29166213                 11                     4.0       33664   \n",
       "\n",
       "          add_to_cart_order  reordered  ...     price_range_loc  \\\n",
       "10030345                  5          0  ...  High-range product   \n",
       "10030346                  3          1  ...  High-range product   \n",
       "10030347                  6          0  ...  High-range product   \n",
       "10030348                  3          1  ...  High-range product   \n",
       "10030349                  9          0  ...  High-range product   \n",
       "...                     ...        ...  ...                 ...   \n",
       "29166209                  1          0  ...  High-range product   \n",
       "29166210                  1          1  ...  High-range product   \n",
       "29166211                 25          0  ...  High-range product   \n",
       "29166212                  8          0  ...  High-range product   \n",
       "29166213                 23          1  ...  High-range product   \n",
       "\n",
       "             busiest_day        busiest_days  busiest_period_of_day max_order  \\\n",
       "10030345  Regularly busy  Regulary busy days            Most orders        40   \n",
       "10030346  Regularly busy  Regulary busy days            Most orders        40   \n",
       "10030347  Regularly busy  Regulary busy days         Average orders         4   \n",
       "10030348     Busiest day        Busiest days            Most orders         4   \n",
       "10030349  Regularly busy        Busiest days            Most orders        16   \n",
       "...                  ...                 ...                    ...       ...   \n",
       "29166209     Busiest day        Busiest days            Most orders        39   \n",
       "29166210     Busiest day        Busiest days            Most orders        39   \n",
       "29166211  Regularly busy        Slowest days            Most orders        15   \n",
       "29166212  Regularly busy        Slowest days         Average orders        12   \n",
       "29166213     Busiest day        Busiest days            Most orders        12   \n",
       "\n",
       "              loyalty_flag    avg_price  spender_flag  \\\n",
       "10030345  Regular customer   108.648299  High spender   \n",
       "10030346  Regular customer   108.648299  High spender   \n",
       "10030347      New customer  1154.792308  High spender   \n",
       "10030348      New customer  1154.792308  High spender   \n",
       "10030349  Regular customer   114.426619  High spender   \n",
       "...                    ...          ...           ...   \n",
       "29166209  Regular customer  1106.743956  High spender   \n",
       "29166210  Regular customer  1106.743956  High spender   \n",
       "29166211  Regular customer   451.153540  High spender   \n",
       "29166212  Regular customer  1178.381871  High spender   \n",
       "29166213  Regular customer  1178.381871  High spender   \n",
       "\n",
       "         median_days_since_prior_order         frequency_flag  \n",
       "10030345                           5.0      Frequent customer  \n",
       "10030346                           5.0      Frequent customer  \n",
       "10030347                          12.0       Regular customer  \n",
       "10030348                          12.0       Regular customer  \n",
       "10030349                          23.0  Non-frequent customer  \n",
       "...                                ...                    ...  \n",
       "29166209                           4.0      Frequent customer  \n",
       "29166210                           4.0      Frequent customer  \n",
       "29166211                           5.0      Frequent customer  \n",
       "29166212                          12.0       Regular customer  \n",
       "29166213                          12.0       Regular customer  \n",
       "\n",
       "[5127 rows x 25 columns]"
      ]
     },
     "execution_count": 19,
     "metadata": {},
     "output_type": "execute_result"
    }
   ],
   "source": [
    "ords_prods_merge.loc[ords_prods_merge['prices'] > 100]"
   ]
  },
  {
   "cell_type": "code",
   "execution_count": 21,
   "id": "447ed381",
   "metadata": {
    "ExecuteTime": {
     "end_time": "2022-10-28T12:02:00.676800Z",
     "start_time": "2022-10-28T12:01:09.362609Z"
    }
   },
   "outputs": [
    {
     "data": {
      "text/html": [
       "<div>\n",
       "<style scoped>\n",
       "    .dataframe tbody tr th:only-of-type {\n",
       "        vertical-align: middle;\n",
       "    }\n",
       "\n",
       "    .dataframe tbody tr th {\n",
       "        vertical-align: top;\n",
       "    }\n",
       "\n",
       "    .dataframe thead th {\n",
       "        text-align: right;\n",
       "    }\n",
       "</style>\n",
       "<table border=\"1\" class=\"dataframe\">\n",
       "  <thead>\n",
       "    <tr style=\"text-align: right;\">\n",
       "      <th></th>\n",
       "      <th>order_id</th>\n",
       "      <th>user_id</th>\n",
       "      <th>eval_set</th>\n",
       "      <th>order_number</th>\n",
       "      <th>orders_day_of_week</th>\n",
       "      <th>order_hour_of_day</th>\n",
       "      <th>days_since_prior_order</th>\n",
       "      <th>product_id</th>\n",
       "      <th>add_to_cart_order</th>\n",
       "      <th>reordered</th>\n",
       "      <th>...</th>\n",
       "      <th>price_range_loc</th>\n",
       "      <th>busiest_day</th>\n",
       "      <th>busiest_days</th>\n",
       "      <th>busiest_period_of_day</th>\n",
       "      <th>max_order</th>\n",
       "      <th>loyalty_flag</th>\n",
       "      <th>avg_price</th>\n",
       "      <th>spender_flag</th>\n",
       "      <th>median_days_since_prior_order</th>\n",
       "      <th>frequency_flag</th>\n",
       "    </tr>\n",
       "  </thead>\n",
       "  <tbody>\n",
       "    <tr>\n",
       "      <th>0</th>\n",
       "      <td>2539329</td>\n",
       "      <td>1</td>\n",
       "      <td>prior</td>\n",
       "      <td>1</td>\n",
       "      <td>2</td>\n",
       "      <td>8</td>\n",
       "      <td>NaN</td>\n",
       "      <td>196</td>\n",
       "      <td>1</td>\n",
       "      <td>0</td>\n",
       "      <td>...</td>\n",
       "      <td>Mid-range product</td>\n",
       "      <td>Regularly busy</td>\n",
       "      <td>Regulary busy days</td>\n",
       "      <td>Most orders</td>\n",
       "      <td>10</td>\n",
       "      <td>New customer</td>\n",
       "      <td>6.367797</td>\n",
       "      <td>Low spender</td>\n",
       "      <td>20.5</td>\n",
       "      <td>Non-frequent customer</td>\n",
       "    </tr>\n",
       "    <tr>\n",
       "      <th>1</th>\n",
       "      <td>2398795</td>\n",
       "      <td>1</td>\n",
       "      <td>prior</td>\n",
       "      <td>2</td>\n",
       "      <td>3</td>\n",
       "      <td>7</td>\n",
       "      <td>15.0</td>\n",
       "      <td>196</td>\n",
       "      <td>1</td>\n",
       "      <td>1</td>\n",
       "      <td>...</td>\n",
       "      <td>Mid-range product</td>\n",
       "      <td>Regularly busy</td>\n",
       "      <td>Slowest days</td>\n",
       "      <td>Average orders</td>\n",
       "      <td>10</td>\n",
       "      <td>New customer</td>\n",
       "      <td>6.367797</td>\n",
       "      <td>Low spender</td>\n",
       "      <td>20.5</td>\n",
       "      <td>Non-frequent customer</td>\n",
       "    </tr>\n",
       "    <tr>\n",
       "      <th>2</th>\n",
       "      <td>473747</td>\n",
       "      <td>1</td>\n",
       "      <td>prior</td>\n",
       "      <td>3</td>\n",
       "      <td>3</td>\n",
       "      <td>12</td>\n",
       "      <td>21.0</td>\n",
       "      <td>196</td>\n",
       "      <td>1</td>\n",
       "      <td>1</td>\n",
       "      <td>...</td>\n",
       "      <td>Mid-range product</td>\n",
       "      <td>Regularly busy</td>\n",
       "      <td>Slowest days</td>\n",
       "      <td>Most orders</td>\n",
       "      <td>10</td>\n",
       "      <td>New customer</td>\n",
       "      <td>6.367797</td>\n",
       "      <td>Low spender</td>\n",
       "      <td>20.5</td>\n",
       "      <td>Non-frequent customer</td>\n",
       "    </tr>\n",
       "    <tr>\n",
       "      <th>3</th>\n",
       "      <td>2254736</td>\n",
       "      <td>1</td>\n",
       "      <td>prior</td>\n",
       "      <td>4</td>\n",
       "      <td>4</td>\n",
       "      <td>7</td>\n",
       "      <td>29.0</td>\n",
       "      <td>196</td>\n",
       "      <td>1</td>\n",
       "      <td>1</td>\n",
       "      <td>...</td>\n",
       "      <td>Mid-range product</td>\n",
       "      <td>Least busy</td>\n",
       "      <td>Slowest days</td>\n",
       "      <td>Average orders</td>\n",
       "      <td>10</td>\n",
       "      <td>New customer</td>\n",
       "      <td>6.367797</td>\n",
       "      <td>Low spender</td>\n",
       "      <td>20.5</td>\n",
       "      <td>Non-frequent customer</td>\n",
       "    </tr>\n",
       "    <tr>\n",
       "      <th>4</th>\n",
       "      <td>431534</td>\n",
       "      <td>1</td>\n",
       "      <td>prior</td>\n",
       "      <td>5</td>\n",
       "      <td>4</td>\n",
       "      <td>15</td>\n",
       "      <td>28.0</td>\n",
       "      <td>196</td>\n",
       "      <td>1</td>\n",
       "      <td>1</td>\n",
       "      <td>...</td>\n",
       "      <td>Mid-range product</td>\n",
       "      <td>Least busy</td>\n",
       "      <td>Slowest days</td>\n",
       "      <td>Most orders</td>\n",
       "      <td>10</td>\n",
       "      <td>New customer</td>\n",
       "      <td>6.367797</td>\n",
       "      <td>Low spender</td>\n",
       "      <td>20.5</td>\n",
       "      <td>Non-frequent customer</td>\n",
       "    </tr>\n",
       "    <tr>\n",
       "      <th>...</th>\n",
       "      <td>...</td>\n",
       "      <td>...</td>\n",
       "      <td>...</td>\n",
       "      <td>...</td>\n",
       "      <td>...</td>\n",
       "      <td>...</td>\n",
       "      <td>...</td>\n",
       "      <td>...</td>\n",
       "      <td>...</td>\n",
       "      <td>...</td>\n",
       "      <td>...</td>\n",
       "      <td>...</td>\n",
       "      <td>...</td>\n",
       "      <td>...</td>\n",
       "      <td>...</td>\n",
       "      <td>...</td>\n",
       "      <td>...</td>\n",
       "      <td>...</td>\n",
       "      <td>...</td>\n",
       "      <td>...</td>\n",
       "      <td>...</td>\n",
       "    </tr>\n",
       "    <tr>\n",
       "      <th>32404854</th>\n",
       "      <td>1320836</td>\n",
       "      <td>202557</td>\n",
       "      <td>prior</td>\n",
       "      <td>17</td>\n",
       "      <td>2</td>\n",
       "      <td>15</td>\n",
       "      <td>1.0</td>\n",
       "      <td>43553</td>\n",
       "      <td>2</td>\n",
       "      <td>1</td>\n",
       "      <td>...</td>\n",
       "      <td>Low-range product</td>\n",
       "      <td>Regularly busy</td>\n",
       "      <td>Regulary busy days</td>\n",
       "      <td>Most orders</td>\n",
       "      <td>31</td>\n",
       "      <td>Regular customer</td>\n",
       "      <td>6.905655</td>\n",
       "      <td>Low spender</td>\n",
       "      <td>8.0</td>\n",
       "      <td>Frequent customer</td>\n",
       "    </tr>\n",
       "    <tr>\n",
       "      <th>32404855</th>\n",
       "      <td>31526</td>\n",
       "      <td>202557</td>\n",
       "      <td>prior</td>\n",
       "      <td>18</td>\n",
       "      <td>5</td>\n",
       "      <td>11</td>\n",
       "      <td>3.0</td>\n",
       "      <td>43553</td>\n",
       "      <td>2</td>\n",
       "      <td>1</td>\n",
       "      <td>...</td>\n",
       "      <td>Low-range product</td>\n",
       "      <td>Regularly busy</td>\n",
       "      <td>Regulary busy days</td>\n",
       "      <td>Most orders</td>\n",
       "      <td>31</td>\n",
       "      <td>Regular customer</td>\n",
       "      <td>6.905655</td>\n",
       "      <td>Low spender</td>\n",
       "      <td>8.0</td>\n",
       "      <td>Frequent customer</td>\n",
       "    </tr>\n",
       "    <tr>\n",
       "      <th>32404856</th>\n",
       "      <td>758936</td>\n",
       "      <td>203436</td>\n",
       "      <td>prior</td>\n",
       "      <td>1</td>\n",
       "      <td>2</td>\n",
       "      <td>7</td>\n",
       "      <td>NaN</td>\n",
       "      <td>42338</td>\n",
       "      <td>4</td>\n",
       "      <td>0</td>\n",
       "      <td>...</td>\n",
       "      <td>Mid-range product</td>\n",
       "      <td>Regularly busy</td>\n",
       "      <td>Regulary busy days</td>\n",
       "      <td>Average orders</td>\n",
       "      <td>3</td>\n",
       "      <td>New customer</td>\n",
       "      <td>7.631579</td>\n",
       "      <td>Low spender</td>\n",
       "      <td>15.0</td>\n",
       "      <td>Regular customer</td>\n",
       "    </tr>\n",
       "    <tr>\n",
       "      <th>32404857</th>\n",
       "      <td>2745165</td>\n",
       "      <td>203436</td>\n",
       "      <td>prior</td>\n",
       "      <td>2</td>\n",
       "      <td>3</td>\n",
       "      <td>5</td>\n",
       "      <td>15.0</td>\n",
       "      <td>42338</td>\n",
       "      <td>16</td>\n",
       "      <td>1</td>\n",
       "      <td>...</td>\n",
       "      <td>Mid-range product</td>\n",
       "      <td>Regularly busy</td>\n",
       "      <td>Slowest days</td>\n",
       "      <td>Fewest orders</td>\n",
       "      <td>3</td>\n",
       "      <td>New customer</td>\n",
       "      <td>7.631579</td>\n",
       "      <td>Low spender</td>\n",
       "      <td>15.0</td>\n",
       "      <td>Regular customer</td>\n",
       "    </tr>\n",
       "    <tr>\n",
       "      <th>32404858</th>\n",
       "      <td>3093936</td>\n",
       "      <td>205420</td>\n",
       "      <td>prior</td>\n",
       "      <td>1</td>\n",
       "      <td>4</td>\n",
       "      <td>14</td>\n",
       "      <td>NaN</td>\n",
       "      <td>28818</td>\n",
       "      <td>8</td>\n",
       "      <td>0</td>\n",
       "      <td>...</td>\n",
       "      <td>Mid-range product</td>\n",
       "      <td>Least busy</td>\n",
       "      <td>Slowest days</td>\n",
       "      <td>Most orders</td>\n",
       "      <td>16</td>\n",
       "      <td>Regular customer</td>\n",
       "      <td>7.684746</td>\n",
       "      <td>Low spender</td>\n",
       "      <td>13.0</td>\n",
       "      <td>Regular customer</td>\n",
       "    </tr>\n",
       "  </tbody>\n",
       "</table>\n",
       "<p>32404859 rows × 25 columns</p>\n",
       "</div>"
      ],
      "text/plain": [
       "          order_id  user_id eval_set  order_number  orders_day_of_week  \\\n",
       "0          2539329        1    prior             1                   2   \n",
       "1          2398795        1    prior             2                   3   \n",
       "2           473747        1    prior             3                   3   \n",
       "3          2254736        1    prior             4                   4   \n",
       "4           431534        1    prior             5                   4   \n",
       "...            ...      ...      ...           ...                 ...   \n",
       "32404854   1320836   202557    prior            17                   2   \n",
       "32404855     31526   202557    prior            18                   5   \n",
       "32404856    758936   203436    prior             1                   2   \n",
       "32404857   2745165   203436    prior             2                   3   \n",
       "32404858   3093936   205420    prior             1                   4   \n",
       "\n",
       "          order_hour_of_day  days_since_prior_order  product_id  \\\n",
       "0                         8                     NaN         196   \n",
       "1                         7                    15.0         196   \n",
       "2                        12                    21.0         196   \n",
       "3                         7                    29.0         196   \n",
       "4                        15                    28.0         196   \n",
       "...                     ...                     ...         ...   \n",
       "32404854                 15                     1.0       43553   \n",
       "32404855                 11                     3.0       43553   \n",
       "32404856                  7                     NaN       42338   \n",
       "32404857                  5                    15.0       42338   \n",
       "32404858                 14                     NaN       28818   \n",
       "\n",
       "          add_to_cart_order  reordered  ...    price_range_loc  \\\n",
       "0                         1          0  ...  Mid-range product   \n",
       "1                         1          1  ...  Mid-range product   \n",
       "2                         1          1  ...  Mid-range product   \n",
       "3                         1          1  ...  Mid-range product   \n",
       "4                         1          1  ...  Mid-range product   \n",
       "...                     ...        ...  ...                ...   \n",
       "32404854                  2          1  ...  Low-range product   \n",
       "32404855                  2          1  ...  Low-range product   \n",
       "32404856                  4          0  ...  Mid-range product   \n",
       "32404857                 16          1  ...  Mid-range product   \n",
       "32404858                  8          0  ...  Mid-range product   \n",
       "\n",
       "             busiest_day        busiest_days  busiest_period_of_day max_order  \\\n",
       "0         Regularly busy  Regulary busy days            Most orders        10   \n",
       "1         Regularly busy        Slowest days         Average orders        10   \n",
       "2         Regularly busy        Slowest days            Most orders        10   \n",
       "3             Least busy        Slowest days         Average orders        10   \n",
       "4             Least busy        Slowest days            Most orders        10   \n",
       "...                  ...                 ...                    ...       ...   \n",
       "32404854  Regularly busy  Regulary busy days            Most orders        31   \n",
       "32404855  Regularly busy  Regulary busy days            Most orders        31   \n",
       "32404856  Regularly busy  Regulary busy days         Average orders         3   \n",
       "32404857  Regularly busy        Slowest days          Fewest orders         3   \n",
       "32404858      Least busy        Slowest days            Most orders        16   \n",
       "\n",
       "              loyalty_flag avg_price spender_flag  \\\n",
       "0             New customer  6.367797  Low spender   \n",
       "1             New customer  6.367797  Low spender   \n",
       "2             New customer  6.367797  Low spender   \n",
       "3             New customer  6.367797  Low spender   \n",
       "4             New customer  6.367797  Low spender   \n",
       "...                    ...       ...          ...   \n",
       "32404854  Regular customer  6.905655  Low spender   \n",
       "32404855  Regular customer  6.905655  Low spender   \n",
       "32404856      New customer  7.631579  Low spender   \n",
       "32404857      New customer  7.631579  Low spender   \n",
       "32404858  Regular customer  7.684746  Low spender   \n",
       "\n",
       "         median_days_since_prior_order         frequency_flag  \n",
       "0                                 20.5  Non-frequent customer  \n",
       "1                                 20.5  Non-frequent customer  \n",
       "2                                 20.5  Non-frequent customer  \n",
       "3                                 20.5  Non-frequent customer  \n",
       "4                                 20.5  Non-frequent customer  \n",
       "...                                ...                    ...  \n",
       "32404854                           8.0      Frequent customer  \n",
       "32404855                           8.0      Frequent customer  \n",
       "32404856                          15.0       Regular customer  \n",
       "32404857                          15.0       Regular customer  \n",
       "32404858                          13.0       Regular customer  \n",
       "\n",
       "[32404859 rows x 25 columns]"
      ]
     },
     "execution_count": 21,
     "metadata": {},
     "output_type": "execute_result"
    }
   ],
   "source": [
    "ords_prods_merge"
   ]
  },
  {
   "cell_type": "code",
   "execution_count": 44,
   "id": "30eb07d5",
   "metadata": {
    "ExecuteTime": {
     "end_time": "2022-10-27T09:59:45.480977Z",
     "start_time": "2022-10-27T09:59:45.456409Z"
    }
   },
   "outputs": [],
   "source": [
    "# turn them into NaNs\n",
    "ords_prods_merge.loc[ords_prods_merge['prices'] >100, 'prices'] = np.nan"
   ]
  },
  {
   "cell_type": "code",
   "execution_count": 46,
   "id": "a8b0288e",
   "metadata": {
    "ExecuteTime": {
     "end_time": "2022-10-27T10:02:24.686259Z",
     "start_time": "2022-10-27T10:02:24.585073Z"
    }
   },
   "outputs": [
    {
     "data": {
      "text/plain": [
       "25.0"
      ]
     },
     "execution_count": 46,
     "metadata": {},
     "output_type": "execute_result"
    }
   ],
   "source": [
    "ords_prods_merge['prices'].max()"
   ]
  },
  {
   "cell_type": "code",
   "execution_count": 48,
   "id": "d7396f13",
   "metadata": {
    "ExecuteTime": {
     "end_time": "2022-10-27T10:05:24.227033Z",
     "start_time": "2022-10-27T10:05:21.697738Z"
    }
   },
   "outputs": [
    {
     "data": {
      "text/plain": [
       "<AxesSubplot:ylabel='Frequency'>"
      ]
     },
     "execution_count": 48,
     "metadata": {},
     "output_type": "execute_result"
    },
    {
     "data": {
      "image/png": "[encoded data removed]",
      "text/plain": [
       "<Figure size 432x288 with 1 Axes>"
      ]
     },
     "metadata": {
      "needs_background": "light"
     },
     "output_type": "display_data"
    }
   ],
   "source": [
    "# creating a histogram\n",
    "ords_prods_merge['prices'].plot.hist(bins = 25)"
   ]
  },
  {
   "cell_type": "code",
   "execution_count": 51,
   "id": "2af63e9c",
   "metadata": {
    "ExecuteTime": {
     "end_time": "2022-10-27T10:05:40.694177Z",
     "start_time": "2022-10-27T10:05:38.102911Z"
    }
   },
   "outputs": [
    {
     "data": {
      "text/plain": [
       "<AxesSubplot:ylabel='Frequency'>"
      ]
     },
     "execution_count": 51,
     "metadata": {},
     "output_type": "execute_result"
    },
    {
     "data": {
      "image/png": "[encoded data removed]",
      "text/plain": [
       "<Figure size 432x288 with 1 Axes>"
      ]
     },
     "metadata": {
      "needs_background": "light"
     },
     "output_type": "display_data"
    }
   ],
   "source": [
    "# creating a histogram\n",
    "ords_prods_merge['prices'].plot.hist(bins = 70)"
   ]
  },
  {
   "cell_type": "code",
   "execution_count": 53,
   "id": "9574d7c2",
   "metadata": {
    "ExecuteTime": {
     "end_time": "2022-10-27T10:10:30.387136Z",
     "start_time": "2022-10-27T10:10:30.356387Z"
    }
   },
   "outputs": [],
   "source": [
    "# export figure.savefig() function\n",
    "bar.figure.savefig(os.path.join(path, '04 Analysis', 'Visualizations', 'hist_orders_dow.png'))"
   ]
  },
  {
   "cell_type": "code",
   "execution_count": 55,
   "id": "8ae5201f",
   "metadata": {
    "ExecuteTime": {
     "end_time": "2022-10-27T10:10:34.458167Z",
     "start_time": "2022-10-27T10:10:34.453404Z"
    }
   },
   "outputs": [],
   "source": [
    "df = ords_prods_merge[:2000000]"
   ]
  },
  {
   "cell_type": "code",
   "execution_count": 57,
   "id": "916d2f42",
   "metadata": {
    "ExecuteTime": {
     "end_time": "2022-10-27T10:18:06.677054Z",
     "start_time": "2022-10-27T10:18:06.319123Z"
    }
   },
   "outputs": [],
   "source": [
    "# command seed random \n",
    "np.random.seed(4)\n",
    "dev = np.random.rand(len(ords_prods_merge)) <= 0.7"
   ]
  },
  {
   "cell_type": "code",
   "execution_count": 58,
   "id": "bbb48419",
   "metadata": {
    "ExecuteTime": {
     "end_time": "2022-10-27T10:21:02.552778Z",
     "start_time": "2022-10-27T10:21:02.547419Z"
    }
   },
   "outputs": [
    {
     "data": {
      "text/plain": [
       "array([False,  True, False, ...,  True,  True,  True])"
      ]
     },
     "execution_count": 58,
     "metadata": {},
     "output_type": "execute_result"
    }
   ],
   "source": [
    "dev"
   ]
  },
  {
   "cell_type": "code",
   "execution_count": 60,
   "id": "cdbd053a",
   "metadata": {
    "ExecuteTime": {
     "end_time": "2022-10-27T10:24:57.188965Z",
     "start_time": "2022-10-27T10:24:57.183288Z"
    }
   },
   "outputs": [
    {
     "data": {
      "text/plain": [
       "array([0.0164016 , 0.99588525, 0.68895442, 0.9491469 , 0.63012328,\n",
       "       0.9192488 , 0.87788077, 0.3936537 , 0.64745848, 0.73786691])"
      ]
     },
     "execution_count": 60,
     "metadata": {},
     "output_type": "execute_result"
    }
   ],
   "source": [
    "np.random.rand(10)"
   ]
  },
  {
   "cell_type": "code",
   "execution_count": 62,
   "id": "c580c741",
   "metadata": {
    "ExecuteTime": {
     "end_time": "2022-10-27T10:33:50.078056Z",
     "start_time": "2022-10-27T10:33:35.095844Z"
    }
   },
   "outputs": [],
   "source": [
    "big = ords_prods_merge[dev]\n",
    "small = ords_prods_merge[~dev]"
   ]
  },
  {
   "cell_type": "code",
   "execution_count": 68,
   "id": "a77dd5a0",
   "metadata": {
    "ExecuteTime": {
     "end_time": "2022-10-27T10:36:40.802536Z",
     "start_time": "2022-10-27T10:36:40.381756Z"
    }
   },
   "outputs": [],
   "source": [
    "# creating a list holding True/False values to the test np.random.rant() <=0.7\n",
    "dev = np.random.rand(len(ords_prods_merge)) <= 0.7"
   ]
  },
  {
   "cell_type": "code",
   "execution_count": 69,
   "id": "b0aabfb2",
   "metadata": {
    "ExecuteTime": {
     "end_time": "2022-10-27T10:37:04.120520Z",
     "start_time": "2022-10-27T10:36:57.411599Z"
    }
   },
   "outputs": [],
   "source": [
    "# store 70% of the sample in the data frame big\n",
    "big = ords_prods_merge[dev]"
   ]
  },
  {
   "cell_type": "code",
   "execution_count": 71,
   "id": "187f0992",
   "metadata": {
    "ExecuteTime": {
     "end_time": "2022-10-27T10:39:27.775131Z",
     "start_time": "2022-10-27T10:39:24.516625Z"
    }
   },
   "outputs": [],
   "source": [
    "# store 30% of the sample in the data frame small\n",
    "small = ords_prods_merge[~dev]"
   ]
  },
  {
   "cell_type": "code",
   "execution_count": 73,
   "id": "606ba9a3",
   "metadata": {
    "ExecuteTime": {
     "end_time": "2022-10-27T10:39:52.636113Z",
     "start_time": "2022-10-27T10:39:52.629117Z"
    }
   },
   "outputs": [
    {
     "data": {
      "text/plain": [
       "32404859"
      ]
     },
     "execution_count": 73,
     "metadata": {},
     "output_type": "execute_result"
    }
   ],
   "source": [
    "len(ords_prods_merge)"
   ]
  },
  {
   "cell_type": "code",
   "execution_count": 75,
   "id": "3f103743",
   "metadata": {
    "ExecuteTime": {
     "end_time": "2022-10-27T10:41:44.274380Z",
     "start_time": "2022-10-27T10:41:44.267859Z"
    }
   },
   "outputs": [
    {
     "data": {
      "text/plain": [
       "32404859"
      ]
     },
     "execution_count": 75,
     "metadata": {},
     "output_type": "execute_result"
    }
   ],
   "source": [
    "len(big) + len(small)"
   ]
  },
  {
   "cell_type": "code",
   "execution_count": 77,
   "id": "33885128",
   "metadata": {
    "ExecuteTime": {
     "end_time": "2022-10-27T10:43:12.158439Z",
     "start_time": "2022-10-27T10:43:11.900850Z"
    }
   },
   "outputs": [],
   "source": [
    "df_2 = small[['orders_day_of_week','prices']]"
   ]
  },
  {
   "cell_type": "code",
   "execution_count": 79,
   "id": "089d304c",
   "metadata": {
    "ExecuteTime": {
     "end_time": "2022-10-27T10:55:36.821919Z",
     "start_time": "2022-10-27T10:51:48.859841Z"
    }
   },
   "outputs": [
    {
     "data": {
      "image/png": "[encoded data removed]",
      "text/plain": [
       "<Figure size 432x288 with 1 Axes>"
      ]
     },
     "metadata": {
      "needs_background": "light"
     },
     "output_type": "display_data"
    }
   ],
   "source": [
    "line = sns.lineplot(data = df_2, x = 'orders_day_of_week', y = 'prices')"
   ]
  }
 ],
 "metadata": {
  "kernelspec": {
   "display_name": "Python 3 (ipykernel)",
   "language": "python",
   "name": "python3"
  },
  "language_info": {
   "codemirror_mode": {
    "name": "ipython",
    "version": 3
   },
   "file_extension": ".py",
   "mimetype": "text/x-python",
   "name": "python",
   "nbconvert_exporter": "python",
   "pygments_lexer": "ipython3",
   "version": "3.9.12"
  }
 },
 "nbformat": 4,
 "nbformat_minor": 5
}
